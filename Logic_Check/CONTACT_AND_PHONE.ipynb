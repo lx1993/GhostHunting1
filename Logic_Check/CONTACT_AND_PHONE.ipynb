{
 "cells": [
  {
   "cell_type": "code",
   "execution_count": 1,
   "metadata": {
    "collapsed": true
   },
   "outputs": [],
   "source": [
    "import pandas as pd\n",
    "import re"
   ]
  },
  {
   "cell_type": "code",
   "execution_count": 2,
   "metadata": {
    "collapsed": false
   },
   "outputs": [
    {
     "name": "stderr",
     "output_type": "stream",
     "text": [
      "D:\\Anaconda\\lib\\site-packages\\IPython\\core\\interactiveshell.py:2717: DtypeWarning: Columns (17,21,22) have mixed types. Specify dtype option on import or set low_memory=False.\n",
      "  interactivity=interactivity, compiler=compiler, result=result)\n"
     ]
    }
   ],
   "source": [
    "client_info_df = pd.read_csv(r'E:\\wd_work\\unti_cheat\\D1_B_0201_0613_0615_B.csv')"
   ]
  },
  {
   "cell_type": "code",
   "execution_count": 3,
   "metadata": {
    "collapsed": true
   },
   "outputs": [],
   "source": [
    "my_contact_df = client_info_df[client_info_df.ACTION_CONTROL==u'my_contact']"
   ]
  },
  {
   "cell_type": "code",
   "execution_count": 7,
   "metadata": {
    "collapsed": false
   },
   "outputs": [],
   "source": [
    "my_contact_df1 = my_contact_df[['USER_ID','ID','ACTION_VALUE']].sort_values(by=['USER_ID','ID'])\n",
    "my_contact_df1.ACTION_VALUE = my_contact_df1.ACTION_VALUE.apply(lambda x:re.sub(u\"[a-z？]\",'',str(x)))\n",
    "my_contact_df1.ACTION_VALUE = my_contact_df1.ACTION_VALUE.apply(lambda x:re.sub(u\"[a-z0-9]\",'',str(x)))\n",
    "my_contact_df1.ACTION_VALUE = my_contact_df1.ACTION_VALUE.apply(lambda x:re.sub(u\"[？ ']\",'',str(x)))"
   ]
  },
  {
   "cell_type": "code",
   "execution_count": 13,
   "metadata": {
    "collapsed": false
   },
   "outputs": [],
   "source": [
    "my_contact_df1['my_contact_len'] = my_contact_df1.ACTION_VALUE.str.len()\n",
    "my_contact_df2 = my_contact_df1[my_contact_df1['my_contact_len']>=2].drop_duplicates(['USER_ID','ACTION_VALUE'])\n",
    "my_contact_df3 = pd.merge(my_contact_df2,my_contact_df2[['USER_ID','ID']].groupby('USER_ID').count().reset_index().rename(columns={'ID':'ID_NUM'}),on='USER_ID',how='left')"
   ]
  },
  {
   "cell_type": "code",
   "execution_count": 15,
   "metadata": {
    "collapsed": false
   },
   "outputs": [],
   "source": [
    "my_contact_df4 = my_contact_df3[my_contact_df3.ID_NUM==1]"
   ]
  },
  {
   "cell_type": "code",
   "execution_count": 18,
   "metadata": {
    "collapsed": false
   },
   "outputs": [],
   "source": [
    "my_contact_df5 = my_contact_df3[my_contact_df3.ID_NUM!=1]"
   ]
  },
  {
   "cell_type": "code",
   "execution_count": 29,
   "metadata": {
    "collapsed": false
   },
   "outputs": [],
   "source": [
    "import difflib\n",
    "def get_contact_cnt(df):\n",
    "    my_contact_list = list(df.ACTION_VALUE)\n",
    "    my_contact = [my_contact_list[-1],]\n",
    "    for con in my_contact_list[:-1]:\n",
    "        if con not in my_contact_list[-1] and difflib.SequenceMatcher(None,con,my_contact_list[-1]).ratio()<0.4:\n",
    "            my_contact.append(con)\n",
    "    return len(my_contact)\n",
    "my_contact_df6 = my_contact_df5.groupby('USER_ID').apply(get_contact_cnt).reset_index().rename(columns={0:'my_contact_num'})"
   ]
  },
  {
   "cell_type": "code",
   "execution_count": 30,
   "metadata": {
    "collapsed": false
   },
   "outputs": [],
   "source": [
    "my_contact_df7 = my_contact_df4[['USER_ID','ID_NUM']].rename(columns={'ID_NUM':'my_contact_num'})"
   ]
  },
  {
   "cell_type": "code",
   "execution_count": 31,
   "metadata": {
    "collapsed": false
   },
   "outputs": [],
   "source": [
    "my_contact_df8 = pd.concat([my_contact_df6,my_contact_df7])"
   ]
  },
  {
   "cell_type": "code",
   "execution_count": null,
   "metadata": {
    "collapsed": false
   },
   "outputs": [],
   "source": [
    "#################联系人关系变更次数##########################"
   ]
  },
  {
   "cell_type": "code",
   "execution_count": 33,
   "metadata": {
    "collapsed": true
   },
   "outputs": [],
   "source": [
    "my_contact_relation_df = client_info_df[client_info_df.ACTION_CONTROL==u'my_contact_relation']"
   ]
  },
  {
   "cell_type": "code",
   "execution_count": 42,
   "metadata": {
    "collapsed": false
   },
   "outputs": [],
   "source": [
    "contactrelationship_changed_cnt= my_contact_relation_df[['USER_ID','ID','ACTION_VALUE']].groupby('USER_ID').count().reset_index()[['USER_ID','ID']].rename(columns={'ID':'contactrelationship_changed_cnt'})"
   ]
  },
  {
   "cell_type": "code",
   "execution_count": 43,
   "metadata": {
    "collapsed": true
   },
   "outputs": [],
   "source": [
    "###############联系人输入熟练情况############################"
   ]
  },
  {
   "cell_type": "code",
   "execution_count": 44,
   "metadata": {
    "collapsed": false
   },
   "outputs": [
    {
     "name": "stdout",
     "output_type": "stream",
     "text": [
      "Wall time: 52.6 s\n"
     ]
    }
   ],
   "source": [
    "%%time\n",
    "my_contact_df = client_info_df[client_info_df.ACTION_CONTROL=='my_contact']\n",
    "my_contact_df = my_contact_df.sort_values(by=['USER_ID','ID'])\n",
    "my_contact_df['my_contact_df_len'] = my_contact_df.ACTION_VALUE.str.len()\n",
    "def cal_pro(df):\n",
    "    df['my_contact_df_len1'] = df['my_contact_df_len'].shift(-1).fillna(0)\n",
    "    df['dif'] = df['my_contact_df_len1']-df['my_contact_df_len']\n",
    "    df1 = df[df.dif>0]\n",
    "    if len(df1)>0:\n",
    "        a = sum(df1.dif)/len(df1)\n",
    "    else:\n",
    "        a = -1\n",
    "    return a\n",
    "input_contact_proficiency_df = my_contact_df.groupby('USER_ID').apply(cal_pro)"
   ]
  },
  {
   "cell_type": "code",
   "execution_count": 45,
   "metadata": {
    "collapsed": true
   },
   "outputs": [],
   "source": [
    "###############是否有将手机输成联系人######################################"
   ]
  },
  {
   "cell_type": "code",
   "execution_count": 48,
   "metadata": {
    "collapsed": true
   },
   "outputs": [],
   "source": [
    "my_contact_df = client_info_df[client_info_df.ACTION_CONTROL=='my_contact'].sort_values(by=['USER_ID','ID'])[['USER_ID','ID','ACTION_VALUE']]"
   ]
  },
  {
   "cell_type": "code",
   "execution_count": 58,
   "metadata": {
    "collapsed": false
   },
   "outputs": [],
   "source": [
    "def get_mix_cnt(df):\n",
    "    a = 0\n",
    "    aaa = ','.join([str(aa) for aa in list(df.ACTION_VALUE)])\n",
    "    for i in ['0','1','2','3','4','5','6','7','8','9']:\n",
    "        if i in aaa:\n",
    "            a = 1\n",
    "    return a"
   ]
  },
  {
   "cell_type": "code",
   "execution_count": 62,
   "metadata": {
    "collapsed": false
   },
   "outputs": [],
   "source": [
    "is_phonecontact_mixed_df = my_contact_df.groupby('USER_ID').apply(get_mix_cnt).reset_index().rename(columns={0:'is_phonecontact_mixed'})"
   ]
  },
  {
   "cell_type": "code",
   "execution_count": 63,
   "metadata": {
    "collapsed": true
   },
   "outputs": [],
   "source": [
    "################is_hist_contactphone_black######################"
   ]
  },
  {
   "cell_type": "code",
   "execution_count": 64,
   "metadata": {
    "collapsed": true
   },
   "outputs": [],
   "source": [
    "my_contact_df = client_info_df[client_info_df.ACTION_CONTROL=='my_contact_phone'].sort_values(by=['USER_ID','ID'])[['USER_ID','ID','ACTION_VALUE']]"
   ]
  },
  {
   "cell_type": "code",
   "execution_count": 66,
   "metadata": {
    "collapsed": false
   },
   "outputs": [],
   "source": [
    "my_contact_df['ACTION_VALUE_LEN'] = my_contact_df.ACTION_VALUE.str.len()"
   ]
  },
  {
   "cell_type": "code",
   "execution_count": 75,
   "metadata": {
    "collapsed": false
   },
   "outputs": [],
   "source": [
    "my_contact_df1 = my_contact_df[my_contact_df['ACTION_VALUE_LEN']>=11]\n",
    "is_hist_contactphone_black_df = my_contact_df1[my_contact_df1.duplicated('USER_ID',keep='last')]"
   ]
  },
  {
   "cell_type": "code",
   "execution_count": null,
   "metadata": {
    "collapsed": false
   },
   "outputs": [],
   "source": [
    "###################是否有复制粘贴##############################"
   ]
  },
  {
   "cell_type": "code",
   "execution_count": 77,
   "metadata": {
    "collapsed": false
   },
   "outputs": [
    {
     "name": "stdout",
     "output_type": "stream",
     "text": [
      "Wall time: 602 ms\n"
     ]
    }
   ],
   "source": [
    "%%time\n",
    "my_contact_df = client_info_df[client_info_df.ACTION_CONTROL=='my_contact_phone']\n",
    "my_contact_df = my_contact_df.sort_values(by=['USER_ID','ID']).drop_duplicates('USER_ID',keep='first')[['USER_ID','ACTION_VALUE']]\n",
    "my_contact_df['my_contact_phone_len'] = my_contact_df.ACTION_VALUE.str.len()\n",
    "my_contact_df['is_contact_phone_len_copypaste'] = 0\n",
    "my_contact_df.ix[my_contact_df['my_contact_phone_len']>=5,'is_contact_phone_len_copypaste'] = 1\n",
    "is_contact_phone_len_copypaste = my_contact_df[['USER_ID','is_contact_phone_len_copypaste']]"
   ]
  },
  {
   "cell_type": "code",
   "execution_count": null,
   "metadata": {
    "collapsed": true
   },
   "outputs": [],
   "source": [
    "##################是否更换电话所属城市###########################"
   ]
  },
  {
   "cell_type": "code",
   "execution_count": 100,
   "metadata": {
    "collapsed": false
   },
   "outputs": [
    {
     "name": "stdout",
     "output_type": "stream",
     "text": [
      "Wall time: 743 ms\n"
     ]
    },
    {
     "name": "stderr",
     "output_type": "stream",
     "text": [
      "D:\\Anaconda\\lib\\site-packages\\pandas\\core\\generic.py:2773: SettingWithCopyWarning: \n",
      "A value is trying to be set on a copy of a slice from a DataFrame.\n",
      "Try using .loc[row_indexer,col_indexer] = value instead\n",
      "\n",
      "See the caveats in the documentation: http://pandas.pydata.org/pandas-docs/stable/indexing.html#indexing-view-versus-copy\n",
      "  self[name] = value\n"
     ]
    }
   ],
   "source": [
    "%%time\n",
    "my_contact_df = client_info_df[client_info_df.ACTION_CONTROL=='my_contact_phone']\n",
    "my_contact_df = my_contact_df.sort_values(by=['USER_ID','ID'])[['USER_ID','ACTION_VALUE']]\n",
    "my_contact_df['ACTION_VALUE_LEN'] = my_contact_df.ACTION_VALUE.str.len()\n",
    "my_contact_df1 = my_contact_df[my_contact_df['ACTION_VALUE_LEN']>=11]\n",
    "my_contact_df1.ACTION_VALUE = my_contact_df1.ACTION_VALUE.apply(lambda x:re.sub(u\"[^0-9]\",'',str(x)))\n",
    "my_contact_df1.ACTION_VALUE = my_contact_df1.ACTION_VALUE.apply(lambda x:x[:7])"
   ]
  },
  {
   "cell_type": "code",
   "execution_count": 101,
   "metadata": {
    "collapsed": false
   },
   "outputs": [],
   "source": [
    "phonecity_changed_cnt = my_contact_df1.drop_duplicates(['USER_ID','ACTION_VALUE']).groupby('USER_ID').count().reset_index()[['USER_ID','ACTION_VALUE']].rename(columns={'ACTION_VALUE':'phonecity_changed_cnt'})"
   ]
  }
 ],
 "metadata": {
  "kernelspec": {
   "display_name": "Python 3",
   "language": "python",
   "name": "python3"
  },
  "language_info": {
   "codemirror_mode": {
    "name": "ipython",
    "version": 3
   },
   "file_extension": ".py",
   "mimetype": "text/x-python",
   "name": "python",
   "nbconvert_exporter": "python",
   "pygments_lexer": "ipython3",
   "version": "3.6.0"
  }
 },
 "nbformat": 4,
 "nbformat_minor": 2
}
