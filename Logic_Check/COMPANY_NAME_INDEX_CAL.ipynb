{
 "cells": [
  {
   "cell_type": "code",
   "execution_count": 47,
   "metadata": {
    "collapsed": true
   },
   "outputs": [],
   "source": [
    "import pandas as pd\n",
    "import re"
   ]
  },
  {
   "cell_type": "code",
   "execution_count": 2,
   "metadata": {
    "collapsed": false
   },
   "outputs": [
    {
     "name": "stderr",
     "output_type": "stream",
     "text": [
      "D:\\Anaconda\\lib\\site-packages\\IPython\\core\\interactiveshell.py:2717: DtypeWarning: Columns (17,21,22) have mixed types. Specify dtype option on import or set low_memory=False.\n",
      "  interactivity=interactivity, compiler=compiler, result=result)\n"
     ]
    }
   ],
   "source": [
    "client_info_df = pd.read_csv(r'E:\\wd_work\\unti_cheat\\D1_B_0201_0613_0615_B.csv')"
   ]
  },
  {
   "cell_type": "code",
   "execution_count": 3,
   "metadata": {
    "collapsed": false
   },
   "outputs": [
    {
     "data": {
      "text/plain": [
       "Index(['ACTION_CONTROL', 'ACTION_GROUP', 'ACTION_PAGE', 'ACTION_TEXT',\n",
       "       'ACTION_VALUE', 'CLIENT_TIME', 'CREATE_DATE', '中文匹配', 'D3', 'D10', 'F6',\n",
       "       'GETTEL(A.MOBILE)', 'ID', 'MACHINE_UUID', 'MAX_MAXOVERDUEDAYS', '记录数',\n",
       "       'PUTOUTDATE_TIMES', 'T3%', 'T30#', 'T3#', 'T10#', '[T3->T10]%', 'T10% ',\n",
       "       'T20#', 'TEL', 'USER_ID', '日(APPLY_DATE)', '日(MIN_PUTOUTDATE)'],\n",
       "      dtype='object')"
      ]
     },
     "execution_count": 3,
     "metadata": {},
     "output_type": "execute_result"
    }
   ],
   "source": [
    "client_info_df.columns"
   ]
  },
  {
   "cell_type": "code",
   "execution_count": 5,
   "metadata": {
    "collapsed": false
   },
   "outputs": [
    {
     "data": {
      "text/plain": [
       "my_home_address        815662\n",
       "my_company_name        524858\n",
       "my_contact_phone       376697\n",
       "my_contact             319647\n",
       "my_work_address        137682\n",
       "city                    30662\n",
       "my_phone                12943\n",
       "my_contact_relation      9442\n",
       "Name: ACTION_CONTROL, dtype: int64"
      ]
     },
     "execution_count": 5,
     "metadata": {},
     "output_type": "execute_result"
    }
   ],
   "source": [
    "client_info_df.ACTION_CONTROL.value_counts()"
   ]
  },
  {
   "cell_type": "code",
   "execution_count": 7,
   "metadata": {
    "collapsed": false
   },
   "outputs": [],
   "source": [
    "company_name_df = client_info_df[client_info_df.ACTION_CONTROL==u'my_company_name']"
   ]
  },
  {
   "cell_type": "code",
   "execution_count": 62,
   "metadata": {
    "collapsed": false
   },
   "outputs": [],
   "source": [
    "company_name_df1 = company_name_df[['USER_ID','ID','ACTION_VALUE']].sort_values(by=['USER_ID','ID'])\n",
    "company_name_df1.ACTION_VALUE = company_name_df1.ACTION_VALUE.apply(lambda x:re.sub(u\"[a-z？]\",'',str(x)))\n",
    "company_name_df1.ACTION_VALUE = company_name_df1.ACTION_VALUE.apply(lambda x:re.sub(u\"[a-z0-9]\",'',str(x)))\n",
    "company_name_df1.ACTION_VALUE = company_name_df1.ACTION_VALUE.apply(lambda x:re.sub(u\"[？ ']\",'',str(x)))"
   ]
  },
  {
   "cell_type": "code",
   "execution_count": 63,
   "metadata": {
    "collapsed": false
   },
   "outputs": [],
   "source": [
    "company_name_df1['company_name_len'] = company_name_df1.ACTION_VALUE.str.len()"
   ]
  },
  {
   "cell_type": "code",
   "execution_count": 64,
   "metadata": {
    "collapsed": false
   },
   "outputs": [],
   "source": [
    "company_name_df1['company_name_len1'] = company_name_df1['company_name_len'].shift(-1)\n",
    "company_name_df1['company_name_len2'] = company_name_df1['company_name_len'].shift(1)"
   ]
  },
  {
   "cell_type": "code",
   "execution_count": 65,
   "metadata": {
    "collapsed": false
   },
   "outputs": [],
   "source": [
    "company_name_df1['maxmum_index'] = 0\n",
    "company_name_df1.ix[(company_name_df1['company_name_len']>company_name_df1['company_name_len1'])&(company_name_df1['company_name_len']>company_name_df1['company_name_len2']),'maxmum_index']=1\n",
    "def set_last_1(df):\n",
    "    df.iloc[-1,-1] = 1\n",
    "    return df\n",
    "company_name_df1 = company_name_df1.groupby('USER_ID').apply(set_last_1)"
   ]
  },
  {
   "cell_type": "code",
   "execution_count": 66,
   "metadata": {
    "collapsed": false
   },
   "outputs": [],
   "source": [
    "company_name_df2 = company_name_df1[company_name_df1.maxmum_index==1]"
   ]
  },
  {
   "cell_type": "code",
   "execution_count": 67,
   "metadata": {
    "collapsed": false
   },
   "outputs": [],
   "source": [
    "company_name_df3 = pd.merge(company_name_df2,company_name_df2[['USER_ID','ID']].groupby('USER_ID').count().reset_index().rename(columns={'ID':'ID_NUM'}),on='USER_ID',how='left')"
   ]
  },
  {
   "cell_type": "code",
   "execution_count": 68,
   "metadata": {
    "collapsed": true
   },
   "outputs": [],
   "source": [
    "company_name_df4 = company_name_df3[company_name_df3.ID_NUM==1]"
   ]
  },
  {
   "cell_type": "code",
   "execution_count": 69,
   "metadata": {
    "collapsed": true
   },
   "outputs": [],
   "source": [
    "company_name_df5 = company_name_df3[company_name_df3.ID_NUM!=1]"
   ]
  },
  {
   "cell_type": "code",
   "execution_count": 74,
   "metadata": {
    "collapsed": false
   },
   "outputs": [],
   "source": [
    "import difflib\n",
    "def get_company_name(df):\n",
    "    company_name_list = list(df.ACTION_VALUE)\n",
    "    company_name = [company_name_list[-1],]\n",
    "    for name in company_name_list[:-1]:\n",
    "        if name not in company_name_list[-1] and difflib.SequenceMatcher(None,name,company_name_list[-1]).ratio()<0.4:\n",
    "            company_name.append(name)\n",
    "    return len(company_name)\n",
    "company_name_df6 = company_name_df5.groupby('USER_ID').apply(get_company_name).reset_index().rename(columns={0:'company_name_num'})"
   ]
  },
  {
   "cell_type": "code",
   "execution_count": 78,
   "metadata": {
    "collapsed": false
   },
   "outputs": [],
   "source": [
    "company_name_df7 = company_name_df4[['USER_ID','ID_NUM']].rename(columns={'ID_NUM':'company_name_num'})"
   ]
  },
  {
   "cell_type": "code",
   "execution_count": 80,
   "metadata": {
    "collapsed": false
   },
   "outputs": [],
   "source": [
    "company_name_df8 = pd.concat([company_name_df6,company_name_df7])"
   ]
  },
  {
   "cell_type": "code",
   "execution_count": 81,
   "metadata": {
    "collapsed": true
   },
   "outputs": [],
   "source": [
    "company_name_df8['is_companyname_changed'] = 0\n",
    "company_name_df8.ix[company_name_df8.company_name_num>1,'is_companyname_changed'] =1"
   ]
  },
  {
   "cell_type": "code",
   "execution_count": 84,
   "metadata": {
    "collapsed": true
   },
   "outputs": [],
   "source": [
    "is_companyname_changed_df = company_name_df8[['USER_ID','is_companyname_changed']]"
   ]
  },
  {
   "cell_type": "code",
   "execution_count": null,
   "metadata": {
    "collapsed": false
   },
   "outputs": [],
   "source": [
    "#####################输入公司名称熟练度###########################"
   ]
  },
  {
   "cell_type": "code",
   "execution_count": 86,
   "metadata": {
    "collapsed": false
   },
   "outputs": [
    {
     "name": "stdout",
     "output_type": "stream",
     "text": [
      "Wall time: 43.4 s\n"
     ]
    }
   ],
   "source": [
    "%%time\n",
    "company_name_df = client_info_df[client_info_df.ACTION_CONTROL=='my_company_name']\n",
    "company_name_df = company_name_df.sort_values(by=['USER_ID','ID'])\n",
    "company_name_df['company_name_len'] = company_name_df.ACTION_VALUE.str.len()\n",
    "def cal_pro(df):\n",
    "    df['company_name_len1'] = df['company_name_len'].shift(-1).fillna(0)\n",
    "    df['dif'] = df['company_name_len1']-df['company_name_len']\n",
    "    df1 = df[df.dif>0]\n",
    "    if len(df1)>0:\n",
    "        a = sum(df1.dif)/len(df1)\n",
    "    else:\n",
    "        a = -1\n",
    "    return a\n",
    "input_companyanme_proficiency_df = company_name_df.groupby('USER_ID').apply(cal_pro)"
   ]
  },
  {
   "cell_type": "code",
   "execution_count": null,
   "metadata": {
    "collapsed": true
   },
   "outputs": [],
   "source": [
    "################公司类别划分#############################"
   ]
  },
  {
   "cell_type": "code",
   "execution_count": 87,
   "metadata": {
    "collapsed": true
   },
   "outputs": [],
   "source": [
    "#################是否包含省市############################"
   ]
  },
  {
   "cell_type": "code",
   "execution_count": 88,
   "metadata": {
    "collapsed": false
   },
   "outputs": [
    {
     "name": "stdout",
     "output_type": "stream",
     "text": [
      "Wall time: 1.13 s\n"
     ]
    }
   ],
   "source": [
    "%%time\n",
    "company_name_df = client_info_df[client_info_df.ACTION_CONTROL=='my_company_name']\n",
    "company_name_df = company_name_df.sort_values(by=['USER_ID','ID']).drop_duplicates('USER_ID',keep='last')[['USER_ID','ACTION_VALUE']]\n",
    "company_list = list(company_name_df.ACTION_VALUE)\n",
    "company_list_box = []\n",
    "for i in range(len(company_list)):\n",
    "    if ('省' in company_list[i]) |('市' in company_list[i]) |('县' in company_list[i]):\n",
    "        company_list_box.append(1)\n",
    "    else:\n",
    "        company_list_box.append(0)\n",
    "company_name_df['is_companyname_includecity'] = company_list_box\n",
    "is_companyname_includecity_df = company_name_df[['USER_ID','is_companyname_includecity']]"
   ]
  },
  {
   "cell_type": "code",
   "execution_count": 89,
   "metadata": {
    "collapsed": true
   },
   "outputs": [],
   "source": [
    "###############名称长度######################"
   ]
  },
  {
   "cell_type": "code",
   "execution_count": 91,
   "metadata": {
    "collapsed": false
   },
   "outputs": [
    {
     "name": "stdout",
     "output_type": "stream",
     "text": [
      "Wall time: 788 ms\n"
     ]
    }
   ],
   "source": [
    "%%time\n",
    "company_name_df = client_info_df[client_info_df.ACTION_CONTROL=='my_company_name']\n",
    "company_name_df = company_name_df.sort_values(by=['USER_ID','ID']).drop_duplicates('USER_ID',keep='last')[['USER_ID','ACTION_VALUE']]\n",
    "company_name_df['company_name_len'] = company_name_df.ACTION_VALUE.str.len()\n",
    "company_name_len_df = company_name_df[['USER_ID','company_name_len']]"
   ]
  },
  {
   "cell_type": "code",
   "execution_count": null,
   "metadata": {
    "collapsed": false
   },
   "outputs": [],
   "source": [
    "#############文字当中是否有括号或其他标点#################"
   ]
  },
  {
   "cell_type": "code",
   "execution_count": 93,
   "metadata": {
    "collapsed": false
   },
   "outputs": [
    {
     "name": "stdout",
     "output_type": "stream",
     "text": [
      "Wall time: 24.2 s\n"
     ]
    }
   ],
   "source": [
    "%%time\n",
    "company_name_df = client_info_df[client_info_df.ACTION_CONTROL=='my_company_name']\n",
    "ll = []\n",
    "userlist = []\n",
    "for USER_ID in set(list(company_name_df.USER_ID)):\n",
    "    ll.append(''.join([str(company_name) for company_name in list(company_name_df[company_name_df.USER_ID==USER_ID].ACTION_VALUE)]))\n",
    "    userlist.append(USER_ID)\n",
    "is_obtain_someting_list = []\n",
    "for l in ll:\n",
    "    c = 0\n",
    "    for a in ['(',')','（','）','【','】','[',']','{','}','-','_']:\n",
    "        if a in l:\n",
    "            c += 1\n",
    "    if c == 0:\n",
    "        is_obtain_someting_list.append(0)\n",
    "    else:\n",
    "        is_obtain_someting_list.append(1)\n",
    "is_companyname_include_punctuation = pd.DataFrame({'USER_ID':userlist,'is_companyname_include_punctuation':is_obtain_someting_list}) "
   ]
  },
  {
   "cell_type": "code",
   "execution_count": 94,
   "metadata": {
    "collapsed": true
   },
   "outputs": [],
   "source": [
    "#############是否有过复制粘贴#################"
   ]
  },
  {
   "cell_type": "code",
   "execution_count": 95,
   "metadata": {
    "collapsed": false
   },
   "outputs": [
    {
     "name": "stdout",
     "output_type": "stream",
     "text": [
      "Wall time: 804 ms\n"
     ]
    }
   ],
   "source": [
    "%%time\n",
    "company_name_df = client_info_df[client_info_df.ACTION_CONTROL=='my_company_name']\n",
    "company_name_df = company_name_df.sort_values(by=['USER_ID','ID']).drop_duplicates('USER_ID',keep='first')[['USER_ID','ACTION_VALUE']]\n",
    "company_name_df['company_name_len'] = company_name_df.ACTION_VALUE.str.len()\n",
    "company_name_df['is_company_copypaste'] = 0\n",
    "company_name_df.ix[company_name_df['company_name_len']>=5,'is_company_copypaste'] = 1\n",
    "is_companyname_copypaste_df = company_name_df[['USER_ID','is_company_copypaste']]"
   ]
  },
  {
   "cell_type": "code",
   "execution_count": 96,
   "metadata": {
    "collapsed": true
   },
   "outputs": [],
   "source": [
    "###############总编辑次数######################"
   ]
  },
  {
   "cell_type": "code",
   "execution_count": 97,
   "metadata": {
    "collapsed": false
   },
   "outputs": [
    {
     "name": "stdout",
     "output_type": "stream",
     "text": [
      "Wall time: 327 ms\n"
     ]
    }
   ],
   "source": [
    "%%time\n",
    "company_name_df = client_info_df[client_info_df.ACTION_CONTROL=='my_company_name']\n",
    "company_id_cnt = company_name_df[['USER_ID','ID']].groupby('USER_ID').count().reset_index().rename(columns={'ID':'company_id_cnt'})"
   ]
  },
  {
   "cell_type": "code",
   "execution_count": 98,
   "metadata": {
    "collapsed": true
   },
   "outputs": [],
   "source": [
    "#############首次输入字符长度#######################"
   ]
  },
  {
   "cell_type": "code",
   "execution_count": 100,
   "metadata": {
    "collapsed": false
   },
   "outputs": [
    {
     "name": "stdout",
     "output_type": "stream",
     "text": [
      "Wall time: 767 ms\n"
     ]
    }
   ],
   "source": [
    "%%time\n",
    "company_name_df = client_info_df[client_info_df.ACTION_CONTROL=='my_company_name']\n",
    "company_name_df = company_name_df.sort_values(by=['USER_ID','ID']).drop_duplicates('USER_ID',keep='first')[['USER_ID','ACTION_VALUE']]\n",
    "company_name_df['company_name_len'] = company_name_df.ACTION_VALUE.str.len()\n",
    "first_companyinput_strlen_df = company_name_df[['USER_ID','company_name_len']].rename(columns={'company_name_len':'first_companyinput_strlen'})"
   ]
  },
  {
   "cell_type": "code",
   "execution_count": null,
   "metadata": {
    "collapsed": true
   },
   "outputs": [],
   "source": []
  }
 ],
 "metadata": {
  "kernelspec": {
   "display_name": "Python 3",
   "language": "python",
   "name": "python3"
  },
  "language_info": {
   "codemirror_mode": {
    "name": "ipython",
    "version": 3
   },
   "file_extension": ".py",
   "mimetype": "text/x-python",
   "name": "python",
   "nbconvert_exporter": "python",
   "pygments_lexer": "ipython3",
   "version": "3.6.0"
  }
 },
 "nbformat": 4,
 "nbformat_minor": 2
}
